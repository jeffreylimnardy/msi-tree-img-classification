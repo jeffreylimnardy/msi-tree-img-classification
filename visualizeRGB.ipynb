{
 "cells": [
  {
   "cell_type": "code",
   "execution_count": 2,
   "metadata": {},
   "outputs": [],
   "source": [
    "import matplotlib.pyplot as plt\n",
    "import json\n",
    "import numpy as np\n"
   ]
  },
  {
   "cell_type": "code",
   "execution_count": 3,
   "metadata": {},
   "outputs": [],
   "source": [
    "\n",
    "abies_alba_img = \"dataset/Abies alba_0504.geojson\"\n",
    "\n",
    "with open(abies_alba_img, 'r') as file:\n",
    "    data_dict = json.load(file)\n",
    "\n",
    "    blue = data_dict['features'][0]['properties']['B2_1']\n",
    "    red = data_dict['features'][0]['properties']['B4_1']\n",
    "    green = data_dict['features'][0]['properties']['B3_1']"
   ]
  },
  {
   "cell_type": "code",
   "execution_count": 4,
   "metadata": {},
   "outputs": [
    {
     "name": "stdout",
     "output_type": "stream",
     "text": [
      "(5, 5)\n"
     ]
    }
   ],
   "source": [
    "blue = np.array(blue)\n",
    "red = np.array(red)\n",
    "print(red.shape)\n",
    "green = np.array(green)\n",
    "\n",
    "R = (red - np.min(red)) / (np.max(red) - np.min(red))\n",
    "\n",
    "G = (green - np.min(green)) / (np.max(green) - np.min(green))\n",
    "\n",
    "B = (blue - np.min(blue)) / (np.max(blue) - np.min(blue))"
   ]
  },
  {
   "cell_type": "code",
   "execution_count": 6,
   "metadata": {},
   "outputs": [
    {
     "name": "stdout",
     "output_type": "stream",
     "text": [
      "[[[0.2406012  0.28571421 0.14285682 0.         0.08270652]\n",
      "  [0.06766923 0.33082721 0.1804509  0.12781953 0.0751876 ]\n",
      "  [0.39849644 0.30827043 0.35338343 0.19548876 0.26315798]\n",
      "  [0.7593988  0.27067635 0.44360888 0.52631597 0.41353373]\n",
      "  [0.53383489 0.23308283 0.82706803 1.         0.22556391]]\n",
      "\n",
      " [[0.3606558  0.5        0.22950846 0.         0.18032851]\n",
      "  [0.02459058 0.54098431 0.45901691 0.2213116  0.29508213]\n",
      "  [0.         0.28688527 0.45082005 0.29508213 0.31147585]\n",
      "  [0.68852537 0.2622959  0.5        0.67213165 0.3606558 ]\n",
      "  [0.68852537 0.01639372 0.59016425 1.         0.03278745]]\n",
      "\n",
      " [[0.3589748  0.41025678 0.21794864 0.01282073 0.47435853]\n",
      "  [0.         0.48717927 0.44871802 0.05128198 0.21794864]\n",
      "  [0.28205136 0.16666667 0.44871802 0.08974322 0.29487209]\n",
      "  [1.         0.28205136 0.60256396 0.62820542 0.34615407]\n",
      "  [0.66666667 0.07692344 0.73076938 0.71794864 0.23076938]]]\n",
      "(5, 5, 3)\n"
     ]
    },
    {
     "data": {
      "text/plain": [
       "<matplotlib.image.AxesImage at 0x1e19dbbb910>"
      ]
     },
     "execution_count": 6,
     "metadata": {},
     "output_type": "execute_result"
    },
    {
     "data": {
      "image/png": "[encoded data removed]",
      "text/plain": [
       "<Figure size 640x480 with 1 Axes>"
      ]
     },
     "metadata": {},
     "output_type": "display_data"
    }
   ],
   "source": [
    "img = np.stack((R,G,B))\n",
    "\n",
    "print(img)\n",
    "\n",
    "imageMatrix = []\n",
    "for i in range(len(R)):\n",
    "    sub_list = []\n",
    "    for j in range(len(R[i])):\n",
    "        sub_list.append([R[i][j], G[i][j], B[i][j]])\n",
    "    imageMatrix.append(sub_list)\n",
    "\n",
    "imageMatrix = np.array(imageMatrix)\n",
    "\n",
    "print(imageMatrix.shape)\n",
    "\n",
    "\n",
    "plt.imshow(imageMatrix)"
   ]
  },
  {
   "cell_type": "code",
   "execution_count": null,
   "metadata": {},
   "outputs": [],
   "source": []
  }
 ],
 "metadata": {
  "kernelspec": {
   "display_name": "DSEO_project",
   "language": "python",
   "name": "python3"
  },
  "language_info": {
   "codemirror_mode": {
    "name": "ipython",
    "version": 3
   },
   "file_extension": ".py",
   "mimetype": "text/x-python",
   "name": "python",
   "nbconvert_exporter": "python",
   "pygments_lexer": "ipython3",
   "version": "3.11.3"
  },
  "orig_nbformat": 4
 },
 "nbformat": 4,
 "nbformat_minor": 2
}
